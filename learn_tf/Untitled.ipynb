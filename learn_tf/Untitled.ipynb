{
 "cells": [
  {
   "cell_type": "code",
   "execution_count": 2,
   "metadata": {},
   "outputs": [],
   "source": [
    "import tensorflow as tf\n",
    "import numpy as np"
   ]
  },
  {
   "cell_type": "code",
   "execution_count": 22,
   "metadata": {},
   "outputs": [],
   "source": [
    "dataset = tf.data.Dataset.from_tensor_slices(np.array([1,2,3,4,5]))"
   ]
  },
  {
   "cell_type": "code",
   "execution_count": 23,
   "metadata": {},
   "outputs": [],
   "source": [
    "iterator = dataset.make_one_shot_iterator()\n",
    "one_element = iterator.get_next()"
   ]
  },
  {
   "cell_type": "code",
   "execution_count": 24,
   "metadata": {},
   "outputs": [],
   "source": [
    "sess = tf.Session()\n",
    "sess.run(tf.global_variables_initializer())\n"
   ]
  },
  {
   "cell_type": "code",
   "execution_count": 25,
   "metadata": {},
   "outputs": [
    {
     "name": "stdout",
     "output_type": "stream",
     "text": [
      "1\n",
      "2\n",
      "3\n",
      "4\n",
      "5\n"
     ]
    }
   ],
   "source": [
    "for i in range(5):\n",
    "    print(sess.run(one_element))"
   ]
  },
  {
   "cell_type": "code",
   "execution_count": 36,
   "metadata": {},
   "outputs": [],
   "source": [
    "dataset = tf.data.Dataset.from_tensor_slices(np.random.uniform(size=(2, 5)))\n",
    "# slices操作将简单dataset的第一个维度切片，生成数组，make_one_shot_iterator"
   ]
  },
  {
   "cell_type": "code",
   "execution_count": 37,
   "metadata": {},
   "outputs": [
    {
     "name": "stdout",
     "output_type": "stream",
     "text": [
      "[0.16773771 0.78141369 0.03562735 0.73576428 0.16160163]\n",
      "[0.61473138 0.10854704 0.08336758 0.33948811 0.57980436]\n"
     ]
    }
   ],
   "source": [
    "iterator = dataset.make_one_shot_iterator()\n",
    "one_element = iterator.get_next()\n",
    "for i in range(2):\n",
    "    print(sess.run(one_element))\n",
    "                  "
   ]
  },
  {
   "cell_type": "code",
   "execution_count": 45,
   "metadata": {},
   "outputs": [],
   "source": [
    "# 复杂模型，传入字典\n",
    "dataset = tf.data.Dataset.from_tensor_slices(\n",
    "    {\n",
    "        \"a\": np.array([1,2,34,4,6], dtype=float),\n",
    "        \"b\":a_tensor\n",
    "    }\n",
    ")"
   ]
  },
  {
   "cell_type": "code",
   "execution_count": 47,
   "metadata": {},
   "outputs": [],
   "source": [
    "iterator = dataset.make_one_shot_iterator()\n",
    "elememt = iterator.get_next()"
   ]
  },
  {
   "cell_type": "code",
   "execution_count": 48,
   "metadata": {},
   "outputs": [
    {
     "name": "stdout",
     "output_type": "stream",
     "text": [
      "{'a': 1.0, 'b': array([0.62092569, 0.97133812, 0.41408603])}\n",
      "{'a': 2.0, 'b': array([0.47709276, 0.65416435, 0.55964332])}\n",
      "{'a': 34.0, 'b': array([0.67867697, 0.24333056, 0.2036523 ])}\n",
      "{'a': 4.0, 'b': array([0.05477889, 0.39518868, 0.65027499])}\n",
      "{'a': 6.0, 'b': array([0.88209504, 0.29629261, 0.52985807])}\n"
     ]
    }
   ],
   "source": [
    "for i in range(5):\n",
    "    print(sess.run(elememt))"
   ]
  },
  {
   "cell_type": "code",
   "execution_count": 49,
   "metadata": {},
   "outputs": [
    {
     "name": "stdout",
     "output_type": "stream",
     "text": [
      "(1.0, array([0.94092266, 0.88924503]))\n",
      "(2.0, array([0.34999822, 0.84249087]))\n",
      "(3.0, array([0.25617197, 0.97419291]))\n",
      "(4.0, array([0.69650834, 0.5351583 ]))\n",
      "(5.0, array([0.66118422, 0.24437363]))\n"
     ]
    }
   ],
   "source": [
    "# 传入元组\n",
    "dataset = tf.data.Dataset.from_tensor_slices(\n",
    "  (np.array([1.0, 2.0, 3.0, 4.0, 5.0]), np.random.uniform(size=(5, 2)))\n",
    ")\n",
    "iterator = dataset.make_one_shot_iterator()\n",
    "elememt = iterator.get_next()\n",
    "for i in range(5):\n",
    "    print(sess.run(elememt))"
   ]
  },
  {
   "cell_type": "markdown",
   "metadata": {},
   "source": [
    "## 对Dataset中的元素做变换：Transformation\n",
    "Dataset支持一类特殊的操作：Transformation。一个Dataset通过Transformation变成一个新的Dataset。通常我们可以通过Transformation完成数据变换，打乱，组成batch，生成epoch等一系列操作。"
   ]
  },
  {
   "cell_type": "markdown",
   "metadata": {},
   "source": [
    "# （1） map\n",
    "map接收一个函数，Dataset中的每个元素都会被当作这个函数的输入，并将函数返回值作为新的Dataset，如我们可以对dataset中每个元素的值加1：\n"
   ]
  },
  {
   "cell_type": "code",
   "execution_count": 51,
   "metadata": {},
   "outputs": [
    {
     "name": "stdout",
     "output_type": "stream",
     "text": [
      "2.0\n",
      "3.0\n",
      "4.0\n",
      "5.0\n",
      "6.0\n"
     ]
    }
   ],
   "source": [
    "dataset = tf.data.Dataset.from_tensor_slices(np.array([1.0, 2.0, 3.0, 4.0, 5.0]))\n",
    "dataset = dataset.map(lambda x: x + 1) # 2.0, 3.0, 4.0, 5.0, 6.0\n",
    "iterator = dataset.make_one_shot_iterator()\n",
    "elememt = iterator.get_next()\n",
    "for i in range(5):\n",
    "    print(sess.run(elememt))"
   ]
  },
  {
   "cell_type": "code",
   "execution_count": 4,
   "metadata": {},
   "outputs": [],
   "source": [
    "a_tensor = np.random.uniform(size=(32,2))"
   ]
  },
  {
   "cell_type": "code",
   "execution_count": 5,
   "metadata": {},
   "outputs": [
    {
     "data": {
      "text/plain": [
       "array([[6.91866654e-01, 6.75803462e-01],\n",
       "       [7.35215491e-01, 6.91985379e-05],\n",
       "       [1.37530062e-01, 4.26140761e-01],\n",
       "       [8.08570695e-01, 2.03581802e-01],\n",
       "       [8.75870229e-01, 2.56227717e-01],\n",
       "       [8.71063655e-01, 1.37931809e-02],\n",
       "       [5.63622091e-01, 8.97932829e-01],\n",
       "       [7.37399836e-01, 5.91953683e-01],\n",
       "       [6.04090252e-01, 8.40840540e-01],\n",
       "       [7.18532068e-01, 7.03300239e-01],\n",
       "       [9.76262178e-01, 9.99472760e-01],\n",
       "       [5.58646346e-01, 8.64448403e-01],\n",
       "       [7.88792136e-01, 8.81352443e-01],\n",
       "       [8.80516210e-01, 2.99083345e-01],\n",
       "       [8.85938262e-01, 1.22541376e-01],\n",
       "       [8.46058564e-01, 7.17079109e-01],\n",
       "       [9.92507510e-01, 7.41406734e-01],\n",
       "       [5.08311983e-01, 1.39771816e-01],\n",
       "       [7.30743828e-01, 2.05734787e-02],\n",
       "       [2.46872845e-01, 2.01264585e-01],\n",
       "       [7.95425582e-01, 6.74491632e-01],\n",
       "       [9.55073395e-01, 5.18130028e-01],\n",
       "       [5.23810287e-01, 9.97334055e-01],\n",
       "       [4.44275159e-01, 4.34323626e-01],\n",
       "       [6.05264488e-01, 1.46769714e-01],\n",
       "       [2.15956982e-01, 5.31918006e-01],\n",
       "       [2.80592744e-01, 2.31244604e-01],\n",
       "       [8.98424518e-01, 4.80643795e-01],\n",
       "       [4.29249819e-01, 8.65857962e-03],\n",
       "       [9.91908363e-01, 3.61027104e-01],\n",
       "       [3.24548697e-01, 9.84794582e-01],\n",
       "       [4.91708419e-01, 6.43711797e-01]])"
      ]
     },
     "execution_count": 5,
     "metadata": {},
     "output_type": "execute_result"
    }
   ],
   "source": [
    "a_tensor"
   ]
  },
  {
   "cell_type": "code",
   "execution_count": 14,
   "metadata": {},
   "outputs": [],
   "source": [
    "dataset = tf.data.Dataset.from_tensor_slices(a_tensor)\n",
    "dataset = dataset.map(lambda x: x + 1) # 2.0, 3.0, 4.0, 5.0, 6.0\n",
    "dataset.batch(4)\n",
    "iters = dataset.make_initializable_iterator()\n",
    "# dataset.prefetch(1)\n",
    "# iterat = tf.data.Iterator.from_structure((4, ()))\n",
    "# elememt = iterator.get_next()\n",
    "# for i in range(5):\n",
    "#     print(sess.run(elememt))"
   ]
  },
  {
   "cell_type": "code",
   "execution_count": 17,
   "metadata": {},
   "outputs": [
    {
     "ename": "TypeError",
     "evalue": "'Operation' object is not callable",
     "output_type": "error",
     "traceback": [
      "\u001b[1;31m---------------------------------------------------------------------------\u001b[0m",
      "\u001b[1;31mTypeError\u001b[0m                                 Traceback (most recent call last)",
      "\u001b[1;32m<ipython-input-17-c4ca1e9b83ec>\u001b[0m in \u001b[0;36m<module>\u001b[1;34m\u001b[0m\n\u001b[1;32m----> 1\u001b[1;33m \u001b[0miters\u001b[0m\u001b[1;33m.\u001b[0m\u001b[0minitializer\u001b[0m\u001b[1;33m(\u001b[0m\u001b[0mdataset\u001b[0m\u001b[1;33m)\u001b[0m\u001b[1;33m\u001b[0m\u001b[0m\n\u001b[0m\u001b[0;32m      2\u001b[0m \u001b[0melement\u001b[0m \u001b[1;33m=\u001b[0m \u001b[0miters\u001b[0m\u001b[1;33m.\u001b[0m\u001b[0mget_next\u001b[0m\u001b[1;33m(\u001b[0m\u001b[1;33m)\u001b[0m\u001b[1;33m\u001b[0m\u001b[0m\n",
      "\u001b[1;31mTypeError\u001b[0m: 'Operation' object is not callable"
     ]
    }
   ],
   "source": [
    "iters.initializer(dataset)\n",
    "element = iters.get_next()"
   ]
  },
  {
   "cell_type": "code",
   "execution_count": 16,
   "metadata": {},
   "outputs": [
    {
     "name": "stdout",
     "output_type": "stream",
     "text": [
      "Tensor(\"IteratorGetNext:0\", shape=(2,), dtype=float64)\n",
      "Tensor(\"IteratorGetNext:0\", shape=(2,), dtype=float64)\n",
      "Tensor(\"IteratorGetNext:0\", shape=(2,), dtype=float64)\n",
      "Tensor(\"IteratorGetNext:0\", shape=(2,), dtype=float64)\n"
     ]
    }
   ],
   "source": [
    "for i in range(4):\n",
    "    print(element)"
   ]
  },
  {
   "cell_type": "code",
   "execution_count": null,
   "metadata": {},
   "outputs": [],
   "source": []
  }
 ],
 "metadata": {
  "kernelspec": {
   "display_name": "Python 3",
   "language": "python",
   "name": "python3"
  },
  "language_info": {
   "codemirror_mode": {
    "name": "ipython",
    "version": 3
   },
   "file_extension": ".py",
   "mimetype": "text/x-python",
   "name": "python",
   "nbconvert_exporter": "python",
   "pygments_lexer": "ipython3",
   "version": "3.6.2"
  }
 },
 "nbformat": 4,
 "nbformat_minor": 2
}
